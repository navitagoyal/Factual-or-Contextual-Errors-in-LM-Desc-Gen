{
 "cells": [
  {
   "cell_type": "code",
   "execution_count": 1,
   "id": "45ba9664-b270-4aa1-a529-cbb98c665c6b",
   "metadata": {},
   "outputs": [],
   "source": [
    "import numpy as np\n",
    "import collections\n",
    "import matplotlib.pyplot as plt\n",
    "import regex as re"
   ]
  },
  {
   "cell_type": "code",
   "execution_count": 2,
   "id": "139f77f2-0ecc-4c54-ad8b-deaee44d77e4",
   "metadata": {},
   "outputs": [],
   "source": [
    "from result_utils import read_results_task"
   ]
  },
  {
   "cell_type": "code",
   "execution_count": 3,
   "id": "c9381591-72c6-4cc3-98d6-e1ac3c564519",
   "metadata": {},
   "outputs": [],
   "source": [
    "row_labels = ['Overall', 'Familiar', 'Unfamiliar']"
   ]
  },
  {
   "cell_type": "markdown",
   "id": "a376f238-9e25-4e35-b754-41b3d1836836",
   "metadata": {},
   "source": [
    "##### Generation"
   ]
  },
  {
   "cell_type": "code",
   "execution_count": 3,
   "id": "483d8d1e-77d9-493c-9bef-37f38685be9c",
   "metadata": {},
   "outputs": [],
   "source": [
    "models = ['T5-base', 'T5-small', 'BART']\n",
    "gen_metrics = ['bleu_precision', 'rougeL_precision', 'bert_precision']\n",
    "gen_metrics = [f'{i}{j}' for j in ['', ':Top', ':MRR'] for i in gen_metrics]"
   ]
  },
  {
   "cell_type": "code",
   "execution_count": 5,
   "id": "b997c5b7-0a97-429d-8022-43eb24299070",
   "metadata": {},
   "outputs": [],
   "source": [
    "results = read_results_task('gen', models)"
   ]
  },
  {
   "cell_type": "code",
   "execution_count": 7,
   "id": "2348f7f7-9d51-4255-ae25-87f7f078e2d8",
   "metadata": {},
   "outputs": [
    {
     "name": "stdout",
     "output_type": "stream",
     "text": [
      "\\midrule\n",
      "\\multirow{9}{*}{\\rotatebox[origin=c]{90}{T5-base}} & \\multirow{3}{*}{Overall} & Accurate & $0.483$ & $0.456$ & $0.662$ & $0.508$ & $0.517$ & $0.658$ & $0.706$ & $0.714$ & $0.795$ \\\\\n",
      "& & Incongruous & $0.362$ & $0.337$ & $0.462$ & $0.189$ & $0.185$ & $0.091$ & $0.62$ & $0.635$ & $0.463$ \\\\\n",
      "& & Nonfactual & $0.463$ & $0.436$ & $0.503$ & $0.303$ & $0.298$ & $0.251$ & $0.745$ & $0.752$ & $0.576$ \\\\\n",
      "& \\multirow{3}{*}{Familiar} & Accurate & $0.629$ & $0.596$ & $0.738$ & $0.619$ & $0.614$ & $0.748$ & $0.766$ & $0.766$ & $0.845$ \\\\\n",
      "& & Incongruous & $0.523$ & $0.502$ & $0.483$ & $0.238$ & $0.252$ & $0.104$ & $0.696$ & $0.706$ & $0.485$ \\\\\n",
      "& & Nonfactual & $0.393$ & $0.383$ & $0.485$ & $0.142$ & $0.134$ & $0.148$ & $0.631$ & $0.639$ & $0.503$ \\\\\n",
      "& \\multirow{3}{*}{Unfamiliar} & Accurate & $0.398$ & $0.376$ & $0.618$ & $0.444$ & $0.461$ & $0.605$ & $0.67$ & $0.684$ & $0.766$ \\\\\n",
      "& & Incongruous & $0.269$ & $0.242$ & $0.449$ & $0.16$ & $0.146$ & $0.084$ & $0.576$ & $0.594$ & $0.449$ \\\\\n",
      "& & Nonfactual & $0.503$ & $0.466$ & $0.513$ & $0.396$ & $0.393$ & $0.311$ & $0.81$ & $0.818$ & $0.618$ \\\\\n",
      "\\midrule\n",
      "\\multirow{9}{*}{\\rotatebox[origin=c]{90}{T5-small}} & \\multirow{3}{*}{Overall} & Accurate & $0.35$ & $0.324$ & $0.584$ & $0.349$ & $0.357$ & $0.508$ & $0.609$ & $0.616$ & $0.699$ \\\\\n",
      "& & Incongruous & $0.398$ & $0.367$ & $0.46$ & $0.203$ & $0.213$ & $0.105$ & $0.626$ & $0.645$ & $0.477$ \\\\\n",
      "& & Nonfactual & $0.58$ & $0.543$ & $0.523$ & $0.447$ & $0.429$ & $0.388$ & $0.83$ & $0.839$ & $0.657$ \\\\\n",
      "& \\multirow{3}{*}{Familiar} & Accurate & $0.493$ & $0.466$ & $0.656$ & $0.477$ & $0.46$ & $0.606$ & $0.677$ & $0.669$ & $0.752$ \\\\\n",
      "& & Incongruous & $0.547$ & $0.517$ & $0.482$ & $0.238$ & $0.266$ & $0.107$ & $0.694$ & $0.716$ & $0.491$ \\\\\n",
      "& & Nonfactual & $0.517$ & $0.494$ & $0.506$ & $0.285$ & $0.274$ & $0.288$ & $0.733$ & $0.746$ & $0.59$ \\\\\n",
      "& \\multirow{3}{*}{Unfamiliar} & Accurate & $0.267$ & $0.242$ & $0.542$ & $0.276$ & $0.298$ & $0.451$ & $0.569$ & $0.585$ & $0.669$ \\\\\n",
      "& & Incongruous & $0.311$ & $0.28$ & $0.447$ & $0.183$ & $0.183$ & $0.103$ & $0.586$ & $0.604$ & $0.469$ \\\\\n",
      "& & Nonfactual & $0.617$ & $0.572$ & $0.533$ & $0.541$ & $0.519$ & $0.446$ & $0.886$ & $0.892$ & $0.696$ \\\\\n",
      "\\midrule\n",
      "\\multirow{9}{*}{\\rotatebox[origin=c]{90}{BART}} & \\multirow{3}{*}{Overall} & Accurate & $0.058$ & $0.064$ & $0.362$ & $0.006$ & $0.009$ & $0.024$ & $0.356$ & $0.362$ & $0.366$ \\\\\n",
      "& & Incongruous & $0.374$ & $0.27$ & $0.533$ & $0.148$ & $0.195$ & $0.163$ & $0.561$ & $0.586$ & $0.563$ \\\\\n",
      "& & Nonfactual & $0.588$ & $0.431$ & $0.623$ & $0.846$ & $0.796$ & $0.813$ & $0.937$ & $0.929$ & $0.904$ \\\\\n",
      "& \\multirow{3}{*}{Familiar} & Accurate & $0.064$ & $0.071$ & $0.361$ & $0.003$ & $0.003$ & $0.015$ & $0.34$ & $0.341$ & $0.35$ \\\\\n",
      "& & Incongruous & $0.503$ & $0.372$ & $0.588$ & $0.266$ & $0.363$ & $0.263$ & $0.628$ & $0.68$ & $0.624$ \\\\\n",
      "& & Nonfactual & $0.578$ & $0.422$ & $0.618$ & $0.732$ & $0.634$ & $0.723$ & $0.882$ & $0.867$ & $0.858$ \\\\\n",
      "& \\multirow{3}{*}{Unfamiliar} & Accurate & $0.054$ & $0.06$ & $0.362$ & $0.009$ & $0.012$ & $0.029$ & $0.365$ & $0.374$ & $0.375$ \\\\\n",
      "& & Incongruous & $0.3$ & $0.211$ & $0.502$ & $0.08$ & $0.099$ & $0.105$ & $0.523$ & $0.532$ & $0.527$ \\\\\n",
      "& & Nonfactual & $0.605$ & $0.447$ & $0.631$ & $0.912$ & $0.889$ & $0.866$ & $0.968$ & $0.965$ & $0.931$ \\\\\n"
     ]
    }
   ],
   "source": [
    "for model in models:\n",
    "    print('\\midrule')\n",
    "    for idx, dim in enumerate(['overall', 'known', 'unknown']):\n",
    "            \n",
    "        for class_num, class_name in enumerate(['Accurate', 'Incongruous', 'Nonfactual']):\n",
    "            if idx==0 and class_num==0:\n",
    "                line = f'\\multirow{{9}}{{*}}{{\\\\rotatebox[origin=c]{{90}}{{{model}}}}} & '\n",
    "            else:\n",
    "                line = f'& '\n",
    "                \n",
    "            if class_num==0:\n",
    "                line += f'\\multirow{{3}}{{*}}{{{row_labels[idx]}}} & '\n",
    "            else:\n",
    "                line += f'& '\n",
    "                \n",
    "            line += f\"{class_name} & \"\n",
    "            line += \" & \".join([f'${round(results[model][metric][dim][class_num], 3)}$' for metric in gen_metrics])\n",
    "        \n",
    "            line += ' \\\\\\\\'\n",
    "            print(line)"
   ]
  },
  {
   "cell_type": "code",
   "execution_count": 8,
   "id": "850deeb6-7509-464c-a14d-4a96c3064f1a",
   "metadata": {},
   "outputs": [
    {
     "name": "stdout",
     "output_type": "stream",
     "text": [
      "\\midrule\n",
      "\\multirow{3}{*}{\\rotatebox[origin=c]{90}{T5-base}} & Accurate & $0.483$ & $0.456$ & $0.662$ & $0.508$ & $0.517$ & $0.658$ & $0.706$ & $0.714$ & $0.795$ \\\\\n",
      "& Incongruous & $0.362$ & $0.337$ & $0.462$ & $0.189$ & $0.185$ & $0.091$ & $0.62$ & $0.635$ & $0.463$ \\\\\n",
      "& Nonfactual & $0.463$ & $0.436$ & $0.503$ & $0.303$ & $0.298$ & $0.251$ & $0.745$ & $0.752$ & $0.576$ \\\\\n",
      "\\midrule\n",
      "\\multirow{3}{*}{\\rotatebox[origin=c]{90}{T5-small}} & Accurate & $0.35$ & $0.324$ & $0.584$ & $0.349$ & $0.357$ & $0.508$ & $0.609$ & $0.616$ & $0.699$ \\\\\n",
      "& Incongruous & $0.398$ & $0.367$ & $0.46$ & $0.203$ & $0.213$ & $0.105$ & $0.626$ & $0.645$ & $0.477$ \\\\\n",
      "& Nonfactual & $0.58$ & $0.543$ & $0.523$ & $0.447$ & $0.429$ & $0.388$ & $0.83$ & $0.839$ & $0.657$ \\\\\n",
      "\\midrule\n",
      "\\multirow{3}{*}{\\rotatebox[origin=c]{90}{BART}} & Accurate & $0.058$ & $0.064$ & $0.362$ & $0.006$ & $0.009$ & $0.024$ & $0.356$ & $0.362$ & $0.366$ \\\\\n",
      "& Incongruous & $0.374$ & $0.27$ & $0.533$ & $0.148$ & $0.195$ & $0.163$ & $0.561$ & $0.586$ & $0.563$ \\\\\n",
      "& Nonfactual & $0.588$ & $0.431$ & $0.623$ & $0.846$ & $0.796$ & $0.813$ & $0.937$ & $0.929$ & $0.904$ \\\\\n"
     ]
    }
   ],
   "source": [
    "### Without known and unknown\n",
    "\n",
    "for model in models:\n",
    "    print('\\midrule')\n",
    "    for idx, dim in enumerate(['overall']):\n",
    "            \n",
    "        for class_num, class_name in enumerate(['Accurate', 'Incongruous', 'Nonfactual']):\n",
    "            if idx==0 and class_num==0:\n",
    "                line = f'\\multirow{{3}}{{*}}{{\\\\rotatebox[origin=c]{{90}}{{{model}}}}} & '\n",
    "            else:\n",
    "                line = f'& '\n",
    "                \n",
    "            # if class_num==0:\n",
    "            #     line += f'\\multirow{{3}}{{*}}{{{row_labels[idx]}}} & '\n",
    "            # else:\n",
    "            #     line += f'& '\n",
    "                \n",
    "            line += f\"{class_name} & \"\n",
    "            line += \" & \".join([f'${round(results[model][metric][dim][class_num], 3)}$' for metric in gen_metrics])\n",
    "        \n",
    "            line += ' \\\\\\\\'\n",
    "            print(line)"
   ]
  },
  {
   "cell_type": "markdown",
   "id": "84ae61d4-965b-4bb3-b8a3-d658576ad6f6",
   "metadata": {},
   "source": [
    "##### Identification"
   ]
  },
  {
   "cell_type": "code",
   "execution_count": 4,
   "id": "13b8f76a-c7e5-43bc-ba87-77c2bb03fddc",
   "metadata": {},
   "outputs": [],
   "source": [
    "models = ['BERT', 'RoBERTa', 'Electra']\n",
    "ident_metrics = ['Top', 'MRR']\n",
    "tasks = ['claim', 'desc']"
   ]
  },
  {
   "cell_type": "code",
   "execution_count": 5,
   "id": "246a3186-20aa-48e4-b6a8-d7dca670e7cf",
   "metadata": {},
   "outputs": [],
   "source": [
    "results = {}\n",
    "for task in tasks:\n",
    "    results[task] = read_results_task(task, models)"
   ]
  },
  {
   "cell_type": "code",
   "execution_count": 6,
   "id": "dd1c5ade-2697-4b66-81d6-8d966ada9d64",
   "metadata": {},
   "outputs": [
    {
     "name": "stdout",
     "output_type": "stream",
     "text": [
      "\\midrule\n",
      "\\multirow{12}{*}{\\rotatebox[origin=c]{90}{BERT}} & \\multirow{4}{*}{Overall} & Accurate & $0.783$ & $0.883$ & $0.667$ & $0.809$ \\\\\n",
      "& & Incongruous & $0.089$ & $0.462$ & $0.247$ & $0.576$ \\\\\n",
      "& & Nonfactual & $0.115$ & $0.404$ & $0.049$ & $0.373$ \\\\\n",
      "& & Both & $0.013$ & $0.335$ & $0.037$ & $0.325$ \\\\\n",
      "& \\multirow{4}{*}{Familiar} & Accurate & $0.879$ & $0.933$ & $0.661$ & $0.809$ \\\\\n",
      "& & Incongruous & $0.091$ & $0.482$ & $0.271$ & $0.589$ \\\\\n",
      "& & Nonfactual & $0.03$ & $0.348$ & $0.051$ & $0.383$ \\\\\n",
      "& & Both & $0.0$ & $0.319$ & $0.017$ & $0.302$ \\\\\n",
      "& \\multirow{4}{*}{Unfamiliar} & Accurate & $0.714$ & $0.846$ & $0.682$ & $0.807$ \\\\\n",
      "& & Incongruous & $0.088$ & $0.407$ & $0.152$ & $0.502$ \\\\\n",
      "& & Nonfactual & $0.176$ & $0.444$ & $0.105$ & $0.459$ \\\\\n",
      "& & Both & $0.022$ & $0.346$ & $0.061$ & $0.326$ \\\\\n",
      "\\midrule\n",
      "\\multirow{12}{*}{\\rotatebox[origin=c]{90}{RoBERTa}} & \\multirow{4}{*}{Overall} & Accurate & $0.809$ & $0.901$ & $0.711$ & $0.839$ \\\\\n",
      "& & Incongruous & $0.102$ & $0.457$ & $0.224$ & $0.579$ \\\\\n",
      "& & Nonfactual & $0.083$ & $0.397$ & $0.066$ & $0.355$ \\\\\n",
      "& & Both & $0.006$ & $0.329$ & $0.0$ & $0.31$ \\\\\n",
      "& \\multirow{4}{*}{Familiar} & Accurate & $0.879$ & $0.937$ & $0.712$ & $0.845$ \\\\\n",
      "& & Incongruous & $0.121$ & $0.491$ & $0.237$ & $0.602$ \\\\\n",
      "& & Nonfactual & $0.0$ & $0.342$ & $0.051$ & $0.325$ \\\\\n",
      "& & Both & $0.0$ & $0.313$ & $0.0$ & $0.312$ \\\\\n",
      "& \\multirow{4}{*}{Unfamiliar} & Accurate & $0.758$ & $0.875$ & $0.706$ & $0.779$ \\\\\n",
      "& & Incongruous & $0.048$ & $0.422$ & $0.117$ & $0.489$ \\\\\n",
      "& & Nonfactual & $0.183$ & $0.507$ & $0.178$ & $0.512$ \\\\\n",
      "& & Both & $0.011$ & $0.34$ & $0.0$ & $0.304$ \\\\\n",
      "\\midrule\n",
      "\\multirow{12}{*}{\\rotatebox[origin=c]{90}{Electra}} & \\multirow{4}{*}{Overall} & Accurate & $0.841$ & $0.904$ & $0.368$ & $0.599$ \\\\\n",
      "& & Incongruous & $0.076$ & $0.434$ & $0.276$ & $0.538$ \\\\\n",
      "& & Nonfactual & $0.076$ & $0.419$ & $0.224$ & $0.511$ \\\\\n",
      "& & Both & $0.006$ & $0.326$ & $0.132$ & $0.435$ \\\\\n",
      "& \\multirow{4}{*}{Familiar} & Accurate & $0.894$ & $0.933$ & $0.356$ & $0.598$ \\\\\n",
      "& & Incongruous & $0.076$ & $0.46$ & $0.288$ & $0.541$ \\\\\n",
      "& & Nonfactual & $0.03$ & $0.376$ & $0.203$ & $0.5$ \\\\\n",
      "& & Both & $0.0$ & $0.314$ & $0.152$ & $0.445$ \\\\\n",
      "& \\multirow{4}{*}{Unfamiliar} & Accurate & $0.802$ & $0.883$ & $0.412$ & $0.603$ \\\\\n",
      "& & Incongruous & $0.077$ & $0.415$ & $0.235$ & $0.529$ \\\\\n",
      "& & Nonfactual & $0.11$ & $0.451$ & $0.294$ & $0.549$ \\\\\n",
      "& & Both & $0.011$ & $0.335$ & $0.059$ & $0.402$ \\\\\n"
     ]
    }
   ],
   "source": [
    "for model in models:\n",
    "    print('\\midrule')\n",
    "    for idx, dim in enumerate(['overall', 'known', 'unknown']):\n",
    "            \n",
    "        for class_num, class_name in enumerate(['Accurate', 'Incongruous', 'Nonfactual', 'Both']):\n",
    "            if idx==0 and class_num==0:\n",
    "                    line = f'\\multirow{{12}}{{*}}{{\\\\rotatebox[origin=c]{{90}}{{{model}}}}} & '\n",
    "            else:\n",
    "                line = f'& '\n",
    "\n",
    "            if class_num==0:\n",
    "                line += f'\\multirow{{4}}{{*}}{{{row_labels[idx]}}} & '\n",
    "            else:\n",
    "                line += f'& '\n",
    "                    \n",
    "            line += f\"{class_name} & \"\n",
    "                    \n",
    "            for task_num, task in enumerate(tasks):\n",
    "                line += \" & \".join([f'${round(results[task][model][metric][dim][class_num], 3)}$' for metric in ident_metrics])\n",
    "                if task_num==0:\n",
    "                    line += \" & \"\n",
    "\n",
    "            line += ' \\\\\\\\'\n",
    "            print(line)"
   ]
  },
  {
   "cell_type": "code",
   "execution_count": 7,
   "id": "317d0005-266a-4203-a6be-9722d20ab9a4",
   "metadata": {},
   "outputs": [
    {
     "name": "stdout",
     "output_type": "stream",
     "text": [
      "\\midrule\n",
      "\\multirow{4}{*}{\\rotatebox[origin=c]{90}{BERT}} & Accurate & $0.783$ & $0.883$ & $0.667$ & $0.809$ \\\\\n",
      "& Incongruous & $0.089$ & $0.462$ & $0.247$ & $0.576$ \\\\\n",
      "& Nonfactual & $0.115$ & $0.404$ & $0.049$ & $0.373$ \\\\\n",
      "& Both & $0.013$ & $0.335$ & $0.037$ & $0.325$ \\\\\n",
      "\\midrule\n",
      "\\multirow{4}{*}{\\rotatebox[origin=c]{90}{RoBERTa}} & Accurate & $0.809$ & $0.901$ & $0.711$ & $0.839$ \\\\\n",
      "& Incongruous & $0.102$ & $0.457$ & $0.224$ & $0.579$ \\\\\n",
      "& Nonfactual & $0.083$ & $0.397$ & $0.066$ & $0.355$ \\\\\n",
      "& Both & $0.006$ & $0.329$ & $0.0$ & $0.31$ \\\\\n",
      "\\midrule\n",
      "\\multirow{4}{*}{\\rotatebox[origin=c]{90}{Electra}} & Accurate & $0.841$ & $0.904$ & $0.368$ & $0.599$ \\\\\n",
      "& Incongruous & $0.076$ & $0.434$ & $0.276$ & $0.538$ \\\\\n",
      "& Nonfactual & $0.076$ & $0.419$ & $0.224$ & $0.511$ \\\\\n",
      "& Both & $0.006$ & $0.326$ & $0.132$ & $0.435$ \\\\\n"
     ]
    }
   ],
   "source": [
    "### Without known and unknown\n",
    "\n",
    "for model in models:\n",
    "    print('\\midrule')\n",
    "    for idx, dim in enumerate(['overall']):\n",
    "            \n",
    "        for class_num, class_name in enumerate(['Accurate', 'Incongruous', 'Nonfactual', 'Both']):\n",
    "            if idx==0 and class_num==0:\n",
    "                    line = f'\\multirow{{4}}{{*}}{{\\\\rotatebox[origin=c]{{90}}{{{model}}}}} & '\n",
    "            else:\n",
    "                line = f'& '\n",
    "\n",
    "            # if class_num==0:\n",
    "            #     line += f'\\multirow{{3}}{{*}}{{{row_labels[idx]}}} & '\n",
    "            # else:\n",
    "            #     line += f'& '\n",
    "                    \n",
    "            line += f\"{class_name} & \"\n",
    "                    \n",
    "            for task_num, task in enumerate(tasks):\n",
    "                line += \" & \".join([f'${round(results[task][model][metric][dim][class_num], 3)}$' for metric in ident_metrics])\n",
    "                if task_num==0:\n",
    "                    line += \" & \"\n",
    "\n",
    "            line += ' \\\\\\\\'\n",
    "            print(line)"
   ]
  },
  {
   "cell_type": "code",
   "execution_count": null,
   "id": "bb4636c9-6566-4e5e-a3c9-aed1b953378f",
   "metadata": {},
   "outputs": [],
   "source": []
  }
 ],
 "metadata": {
  "kernelspec": {
   "display_name": "bgenv",
   "language": "python",
   "name": "bgenv"
  },
  "language_info": {
   "codemirror_mode": {
    "name": "ipython",
    "version": 3
   },
   "file_extension": ".py",
   "mimetype": "text/x-python",
   "name": "python",
   "nbconvert_exporter": "python",
   "pygments_lexer": "ipython3",
   "version": "3.6.8"
  }
 },
 "nbformat": 4,
 "nbformat_minor": 5
}
